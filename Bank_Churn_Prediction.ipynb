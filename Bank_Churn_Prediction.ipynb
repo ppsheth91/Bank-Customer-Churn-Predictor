{
  "nbformat": 4,
  "nbformat_minor": 0,
  "metadata": {
    "colab": {
      "name": "Bank_Churn_Prediction.ipynb",
      "provenance": [],
      "collapsed_sections": []
    },
    "kernelspec": {
      "name": "python3",
      "display_name": "Python 3"
    },
    "accelerator": "GPU"
  },
  "cells": [
    {
      "cell_type": "code",
      "metadata": {
        "id": "CGZEu22sgV-E",
        "colab_type": "code",
        "colab": {}
      },
      "source": [
        "import os\n",
        "import numpy as np\n",
        "import pandas as pd"
      ],
      "execution_count": 1,
      "outputs": []
    },
    {
      "cell_type": "code",
      "metadata": {
        "id": "bXNp59SUhFzf",
        "colab_type": "code",
        "colab": {
          "base_uri": "https://localhost:8080/",
          "height": 35
        },
        "outputId": "88ab0274-4369-436c-9676-22006b5d9b97"
      },
      "source": [
        "import tensorflow as tf\n",
        "tf.test.gpu_device_name()  # yes there is GPU aligned to this #"
      ],
      "execution_count": null,
      "outputs": [
        {
          "output_type": "execute_result",
          "data": {
            "application/vnd.google.colaboratory.intrinsic": {
              "type": "string"
            },
            "text/plain": [
              "'/device:GPU:0'"
            ]
          },
          "metadata": {
            "tags": []
          },
          "execution_count": 2
        }
      ]
    },
    {
      "cell_type": "code",
      "metadata": {
        "id": "TdnfMhO7iseX",
        "colab_type": "code",
        "colab": {}
      },
      "source": [
        "! pip install -q keras"
      ],
      "execution_count": 2,
      "outputs": []
    },
    {
      "cell_type": "code",
      "metadata": {
        "id": "ZKuwPx6jjfo-",
        "colab_type": "code",
        "colab": {}
      },
      "source": [
        "import pandas as pd"
      ],
      "execution_count": 3,
      "outputs": []
    },
    {
      "cell_type": "code",
      "metadata": {
        "id": "oHIXTYSDpPCm",
        "colab_type": "code",
        "colab": {
          "base_uri": "https://localhost:8080/",
          "height": 224
        },
        "outputId": "cfcfa919-aca1-4b5a-e10d-f0d2fbd46584"
      },
      "source": [
        "df = pd.read_csv(\"/content/drive/My Drive/Datasets/Churn_Modelling.csv\")\n",
        "\n",
        "df.head()"
      ],
      "execution_count": 4,
      "outputs": [
        {
          "output_type": "execute_result",
          "data": {
            "text/html": [
              "<div>\n",
              "<style scoped>\n",
              "    .dataframe tbody tr th:only-of-type {\n",
              "        vertical-align: middle;\n",
              "    }\n",
              "\n",
              "    .dataframe tbody tr th {\n",
              "        vertical-align: top;\n",
              "    }\n",
              "\n",
              "    .dataframe thead th {\n",
              "        text-align: right;\n",
              "    }\n",
              "</style>\n",
              "<table border=\"1\" class=\"dataframe\">\n",
              "  <thead>\n",
              "    <tr style=\"text-align: right;\">\n",
              "      <th></th>\n",
              "      <th>RowNumber</th>\n",
              "      <th>CustomerId</th>\n",
              "      <th>Surname</th>\n",
              "      <th>CreditScore</th>\n",
              "      <th>Geography</th>\n",
              "      <th>Gender</th>\n",
              "      <th>Age</th>\n",
              "      <th>Tenure</th>\n",
              "      <th>Balance</th>\n",
              "      <th>NumOfProducts</th>\n",
              "      <th>HasCrCard</th>\n",
              "      <th>IsActiveMember</th>\n",
              "      <th>EstimatedSalary</th>\n",
              "      <th>Exited</th>\n",
              "    </tr>\n",
              "  </thead>\n",
              "  <tbody>\n",
              "    <tr>\n",
              "      <th>0</th>\n",
              "      <td>1</td>\n",
              "      <td>15634602</td>\n",
              "      <td>Hargrave</td>\n",
              "      <td>619</td>\n",
              "      <td>France</td>\n",
              "      <td>Female</td>\n",
              "      <td>42</td>\n",
              "      <td>2</td>\n",
              "      <td>0.00</td>\n",
              "      <td>1</td>\n",
              "      <td>1</td>\n",
              "      <td>1</td>\n",
              "      <td>101348.88</td>\n",
              "      <td>1</td>\n",
              "    </tr>\n",
              "    <tr>\n",
              "      <th>1</th>\n",
              "      <td>2</td>\n",
              "      <td>15647311</td>\n",
              "      <td>Hill</td>\n",
              "      <td>608</td>\n",
              "      <td>Spain</td>\n",
              "      <td>Female</td>\n",
              "      <td>41</td>\n",
              "      <td>1</td>\n",
              "      <td>83807.86</td>\n",
              "      <td>1</td>\n",
              "      <td>0</td>\n",
              "      <td>1</td>\n",
              "      <td>112542.58</td>\n",
              "      <td>0</td>\n",
              "    </tr>\n",
              "    <tr>\n",
              "      <th>2</th>\n",
              "      <td>3</td>\n",
              "      <td>15619304</td>\n",
              "      <td>Onio</td>\n",
              "      <td>502</td>\n",
              "      <td>France</td>\n",
              "      <td>Female</td>\n",
              "      <td>42</td>\n",
              "      <td>8</td>\n",
              "      <td>159660.80</td>\n",
              "      <td>3</td>\n",
              "      <td>1</td>\n",
              "      <td>0</td>\n",
              "      <td>113931.57</td>\n",
              "      <td>1</td>\n",
              "    </tr>\n",
              "    <tr>\n",
              "      <th>3</th>\n",
              "      <td>4</td>\n",
              "      <td>15701354</td>\n",
              "      <td>Boni</td>\n",
              "      <td>699</td>\n",
              "      <td>France</td>\n",
              "      <td>Female</td>\n",
              "      <td>39</td>\n",
              "      <td>1</td>\n",
              "      <td>0.00</td>\n",
              "      <td>2</td>\n",
              "      <td>0</td>\n",
              "      <td>0</td>\n",
              "      <td>93826.63</td>\n",
              "      <td>0</td>\n",
              "    </tr>\n",
              "    <tr>\n",
              "      <th>4</th>\n",
              "      <td>5</td>\n",
              "      <td>15737888</td>\n",
              "      <td>Mitchell</td>\n",
              "      <td>850</td>\n",
              "      <td>Spain</td>\n",
              "      <td>Female</td>\n",
              "      <td>43</td>\n",
              "      <td>2</td>\n",
              "      <td>125510.82</td>\n",
              "      <td>1</td>\n",
              "      <td>1</td>\n",
              "      <td>1</td>\n",
              "      <td>79084.10</td>\n",
              "      <td>0</td>\n",
              "    </tr>\n",
              "  </tbody>\n",
              "</table>\n",
              "</div>"
            ],
            "text/plain": [
              "   RowNumber  CustomerId   Surname  ...  IsActiveMember EstimatedSalary Exited\n",
              "0          1    15634602  Hargrave  ...               1       101348.88      1\n",
              "1          2    15647311      Hill  ...               1       112542.58      0\n",
              "2          3    15619304      Onio  ...               0       113931.57      1\n",
              "3          4    15701354      Boni  ...               0        93826.63      0\n",
              "4          5    15737888  Mitchell  ...               1        79084.10      0\n",
              "\n",
              "[5 rows x 14 columns]"
            ]
          },
          "metadata": {
            "tags": []
          },
          "execution_count": 4
        }
      ]
    },
    {
      "cell_type": "code",
      "metadata": {
        "id": "s8oz376gprwl",
        "colab_type": "code",
        "colab": {
          "base_uri": "https://localhost:8080/",
          "height": 224
        },
        "outputId": "449a8194-f65e-4cd0-fe92-4698fd216da5"
      },
      "source": [
        "# We can drop the unwanted features in this data ser suchb as : RowNumber, CustomerId, Surname #\n",
        "\n",
        "df = df.drop(['RowNumber','CustomerId','Surname'],axis=1)\n",
        "df.head()"
      ],
      "execution_count": 5,
      "outputs": [
        {
          "output_type": "execute_result",
          "data": {
            "text/html": [
              "<div>\n",
              "<style scoped>\n",
              "    .dataframe tbody tr th:only-of-type {\n",
              "        vertical-align: middle;\n",
              "    }\n",
              "\n",
              "    .dataframe tbody tr th {\n",
              "        vertical-align: top;\n",
              "    }\n",
              "\n",
              "    .dataframe thead th {\n",
              "        text-align: right;\n",
              "    }\n",
              "</style>\n",
              "<table border=\"1\" class=\"dataframe\">\n",
              "  <thead>\n",
              "    <tr style=\"text-align: right;\">\n",
              "      <th></th>\n",
              "      <th>CreditScore</th>\n",
              "      <th>Geography</th>\n",
              "      <th>Gender</th>\n",
              "      <th>Age</th>\n",
              "      <th>Tenure</th>\n",
              "      <th>Balance</th>\n",
              "      <th>NumOfProducts</th>\n",
              "      <th>HasCrCard</th>\n",
              "      <th>IsActiveMember</th>\n",
              "      <th>EstimatedSalary</th>\n",
              "      <th>Exited</th>\n",
              "    </tr>\n",
              "  </thead>\n",
              "  <tbody>\n",
              "    <tr>\n",
              "      <th>0</th>\n",
              "      <td>619</td>\n",
              "      <td>France</td>\n",
              "      <td>Female</td>\n",
              "      <td>42</td>\n",
              "      <td>2</td>\n",
              "      <td>0.00</td>\n",
              "      <td>1</td>\n",
              "      <td>1</td>\n",
              "      <td>1</td>\n",
              "      <td>101348.88</td>\n",
              "      <td>1</td>\n",
              "    </tr>\n",
              "    <tr>\n",
              "      <th>1</th>\n",
              "      <td>608</td>\n",
              "      <td>Spain</td>\n",
              "      <td>Female</td>\n",
              "      <td>41</td>\n",
              "      <td>1</td>\n",
              "      <td>83807.86</td>\n",
              "      <td>1</td>\n",
              "      <td>0</td>\n",
              "      <td>1</td>\n",
              "      <td>112542.58</td>\n",
              "      <td>0</td>\n",
              "    </tr>\n",
              "    <tr>\n",
              "      <th>2</th>\n",
              "      <td>502</td>\n",
              "      <td>France</td>\n",
              "      <td>Female</td>\n",
              "      <td>42</td>\n",
              "      <td>8</td>\n",
              "      <td>159660.80</td>\n",
              "      <td>3</td>\n",
              "      <td>1</td>\n",
              "      <td>0</td>\n",
              "      <td>113931.57</td>\n",
              "      <td>1</td>\n",
              "    </tr>\n",
              "    <tr>\n",
              "      <th>3</th>\n",
              "      <td>699</td>\n",
              "      <td>France</td>\n",
              "      <td>Female</td>\n",
              "      <td>39</td>\n",
              "      <td>1</td>\n",
              "      <td>0.00</td>\n",
              "      <td>2</td>\n",
              "      <td>0</td>\n",
              "      <td>0</td>\n",
              "      <td>93826.63</td>\n",
              "      <td>0</td>\n",
              "    </tr>\n",
              "    <tr>\n",
              "      <th>4</th>\n",
              "      <td>850</td>\n",
              "      <td>Spain</td>\n",
              "      <td>Female</td>\n",
              "      <td>43</td>\n",
              "      <td>2</td>\n",
              "      <td>125510.82</td>\n",
              "      <td>1</td>\n",
              "      <td>1</td>\n",
              "      <td>1</td>\n",
              "      <td>79084.10</td>\n",
              "      <td>0</td>\n",
              "    </tr>\n",
              "  </tbody>\n",
              "</table>\n",
              "</div>"
            ],
            "text/plain": [
              "   CreditScore Geography  Gender  ...  IsActiveMember  EstimatedSalary  Exited\n",
              "0          619    France  Female  ...               1        101348.88       1\n",
              "1          608     Spain  Female  ...               1        112542.58       0\n",
              "2          502    France  Female  ...               0        113931.57       1\n",
              "3          699    France  Female  ...               0         93826.63       0\n",
              "4          850     Spain  Female  ...               1         79084.10       0\n",
              "\n",
              "[5 rows x 11 columns]"
            ]
          },
          "metadata": {
            "tags": []
          },
          "execution_count": 5
        }
      ]
    },
    {
      "cell_type": "code",
      "metadata": {
        "id": "q2dHaKItp6L6",
        "colab_type": "code",
        "colab": {
          "base_uri": "https://localhost:8080/",
          "height": 85
        },
        "outputId": "700305d1-6381-4e3b-a539-d660818a8606"
      },
      "source": [
        "# Target variable : Customer has exited the bank or not #\n",
        "\n",
        "# Converting the categoircal variable into numericals woth dummy encoding #\n",
        "\n",
        "df['Geography'].value_counts()"
      ],
      "execution_count": null,
      "outputs": [
        {
          "output_type": "execute_result",
          "data": {
            "text/plain": [
              "France     5014\n",
              "Germany    2509\n",
              "Spain      2477\n",
              "Name: Geography, dtype: int64"
            ]
          },
          "metadata": {
            "tags": []
          },
          "execution_count": 7
        }
      ]
    },
    {
      "cell_type": "code",
      "metadata": {
        "id": "PVWMJKBiqRQK",
        "colab_type": "code",
        "colab": {
          "base_uri": "https://localhost:8080/",
          "height": 359
        },
        "outputId": "1c6e8d8e-a622-4c2c-9e4b-d8022dddd17c"
      },
      "source": [
        "m = pd.get_dummies(df[['Geography','Gender']],drop_first=True)\n",
        "m.head(10)"
      ],
      "execution_count": 6,
      "outputs": [
        {
          "output_type": "execute_result",
          "data": {
            "text/html": [
              "<div>\n",
              "<style scoped>\n",
              "    .dataframe tbody tr th:only-of-type {\n",
              "        vertical-align: middle;\n",
              "    }\n",
              "\n",
              "    .dataframe tbody tr th {\n",
              "        vertical-align: top;\n",
              "    }\n",
              "\n",
              "    .dataframe thead th {\n",
              "        text-align: right;\n",
              "    }\n",
              "</style>\n",
              "<table border=\"1\" class=\"dataframe\">\n",
              "  <thead>\n",
              "    <tr style=\"text-align: right;\">\n",
              "      <th></th>\n",
              "      <th>Geography_Germany</th>\n",
              "      <th>Geography_Spain</th>\n",
              "      <th>Gender_Male</th>\n",
              "    </tr>\n",
              "  </thead>\n",
              "  <tbody>\n",
              "    <tr>\n",
              "      <th>0</th>\n",
              "      <td>0</td>\n",
              "      <td>0</td>\n",
              "      <td>0</td>\n",
              "    </tr>\n",
              "    <tr>\n",
              "      <th>1</th>\n",
              "      <td>0</td>\n",
              "      <td>1</td>\n",
              "      <td>0</td>\n",
              "    </tr>\n",
              "    <tr>\n",
              "      <th>2</th>\n",
              "      <td>0</td>\n",
              "      <td>0</td>\n",
              "      <td>0</td>\n",
              "    </tr>\n",
              "    <tr>\n",
              "      <th>3</th>\n",
              "      <td>0</td>\n",
              "      <td>0</td>\n",
              "      <td>0</td>\n",
              "    </tr>\n",
              "    <tr>\n",
              "      <th>4</th>\n",
              "      <td>0</td>\n",
              "      <td>1</td>\n",
              "      <td>0</td>\n",
              "    </tr>\n",
              "    <tr>\n",
              "      <th>5</th>\n",
              "      <td>0</td>\n",
              "      <td>1</td>\n",
              "      <td>1</td>\n",
              "    </tr>\n",
              "    <tr>\n",
              "      <th>6</th>\n",
              "      <td>0</td>\n",
              "      <td>0</td>\n",
              "      <td>1</td>\n",
              "    </tr>\n",
              "    <tr>\n",
              "      <th>7</th>\n",
              "      <td>1</td>\n",
              "      <td>0</td>\n",
              "      <td>0</td>\n",
              "    </tr>\n",
              "    <tr>\n",
              "      <th>8</th>\n",
              "      <td>0</td>\n",
              "      <td>0</td>\n",
              "      <td>1</td>\n",
              "    </tr>\n",
              "    <tr>\n",
              "      <th>9</th>\n",
              "      <td>0</td>\n",
              "      <td>0</td>\n",
              "      <td>1</td>\n",
              "    </tr>\n",
              "  </tbody>\n",
              "</table>\n",
              "</div>"
            ],
            "text/plain": [
              "   Geography_Germany  Geography_Spain  Gender_Male\n",
              "0                  0                0            0\n",
              "1                  0                1            0\n",
              "2                  0                0            0\n",
              "3                  0                0            0\n",
              "4                  0                1            0\n",
              "5                  0                1            1\n",
              "6                  0                0            1\n",
              "7                  1                0            0\n",
              "8                  0                0            1\n",
              "9                  0                0            1"
            ]
          },
          "metadata": {
            "tags": []
          },
          "execution_count": 6
        }
      ]
    },
    {
      "cell_type": "code",
      "metadata": {
        "id": "aQeS89lIqmgW",
        "colab_type": "code",
        "colab": {
          "base_uri": "https://localhost:8080/",
          "height": 204
        },
        "outputId": "ae86f14c-339d-4b7f-de25-faf82b026976"
      },
      "source": [
        "# Dropping the variables : Gender & Gepgraphy from the df#\n",
        "\n",
        "X = df.drop(['Geography','Gender'],axis=1)\n",
        "X.head()"
      ],
      "execution_count": 7,
      "outputs": [
        {
          "output_type": "execute_result",
          "data": {
            "text/html": [
              "<div>\n",
              "<style scoped>\n",
              "    .dataframe tbody tr th:only-of-type {\n",
              "        vertical-align: middle;\n",
              "    }\n",
              "\n",
              "    .dataframe tbody tr th {\n",
              "        vertical-align: top;\n",
              "    }\n",
              "\n",
              "    .dataframe thead th {\n",
              "        text-align: right;\n",
              "    }\n",
              "</style>\n",
              "<table border=\"1\" class=\"dataframe\">\n",
              "  <thead>\n",
              "    <tr style=\"text-align: right;\">\n",
              "      <th></th>\n",
              "      <th>CreditScore</th>\n",
              "      <th>Age</th>\n",
              "      <th>Tenure</th>\n",
              "      <th>Balance</th>\n",
              "      <th>NumOfProducts</th>\n",
              "      <th>HasCrCard</th>\n",
              "      <th>IsActiveMember</th>\n",
              "      <th>EstimatedSalary</th>\n",
              "      <th>Exited</th>\n",
              "    </tr>\n",
              "  </thead>\n",
              "  <tbody>\n",
              "    <tr>\n",
              "      <th>0</th>\n",
              "      <td>619</td>\n",
              "      <td>42</td>\n",
              "      <td>2</td>\n",
              "      <td>0.00</td>\n",
              "      <td>1</td>\n",
              "      <td>1</td>\n",
              "      <td>1</td>\n",
              "      <td>101348.88</td>\n",
              "      <td>1</td>\n",
              "    </tr>\n",
              "    <tr>\n",
              "      <th>1</th>\n",
              "      <td>608</td>\n",
              "      <td>41</td>\n",
              "      <td>1</td>\n",
              "      <td>83807.86</td>\n",
              "      <td>1</td>\n",
              "      <td>0</td>\n",
              "      <td>1</td>\n",
              "      <td>112542.58</td>\n",
              "      <td>0</td>\n",
              "    </tr>\n",
              "    <tr>\n",
              "      <th>2</th>\n",
              "      <td>502</td>\n",
              "      <td>42</td>\n",
              "      <td>8</td>\n",
              "      <td>159660.80</td>\n",
              "      <td>3</td>\n",
              "      <td>1</td>\n",
              "      <td>0</td>\n",
              "      <td>113931.57</td>\n",
              "      <td>1</td>\n",
              "    </tr>\n",
              "    <tr>\n",
              "      <th>3</th>\n",
              "      <td>699</td>\n",
              "      <td>39</td>\n",
              "      <td>1</td>\n",
              "      <td>0.00</td>\n",
              "      <td>2</td>\n",
              "      <td>0</td>\n",
              "      <td>0</td>\n",
              "      <td>93826.63</td>\n",
              "      <td>0</td>\n",
              "    </tr>\n",
              "    <tr>\n",
              "      <th>4</th>\n",
              "      <td>850</td>\n",
              "      <td>43</td>\n",
              "      <td>2</td>\n",
              "      <td>125510.82</td>\n",
              "      <td>1</td>\n",
              "      <td>1</td>\n",
              "      <td>1</td>\n",
              "      <td>79084.10</td>\n",
              "      <td>0</td>\n",
              "    </tr>\n",
              "  </tbody>\n",
              "</table>\n",
              "</div>"
            ],
            "text/plain": [
              "   CreditScore  Age  Tenure  ...  IsActiveMember  EstimatedSalary  Exited\n",
              "0          619   42       2  ...               1        101348.88       1\n",
              "1          608   41       1  ...               1        112542.58       0\n",
              "2          502   42       8  ...               0        113931.57       1\n",
              "3          699   39       1  ...               0         93826.63       0\n",
              "4          850   43       2  ...               1         79084.10       0\n",
              "\n",
              "[5 rows x 9 columns]"
            ]
          },
          "metadata": {
            "tags": []
          },
          "execution_count": 7
        }
      ]
    },
    {
      "cell_type": "code",
      "metadata": {
        "id": "Y4reFn92q2Lu",
        "colab_type": "code",
        "colab": {
          "base_uri": "https://localhost:8080/",
          "height": 224
        },
        "outputId": "1c4117e4-49b6-4c05-8a90-ecf1b7c43937"
      },
      "source": [
        "# Concaternating the dummy variables and X #\n",
        "\n",
        "X1 = pd.concat([X,m],axis=1)\n",
        "X1.head() "
      ],
      "execution_count": 8,
      "outputs": [
        {
          "output_type": "execute_result",
          "data": {
            "text/html": [
              "<div>\n",
              "<style scoped>\n",
              "    .dataframe tbody tr th:only-of-type {\n",
              "        vertical-align: middle;\n",
              "    }\n",
              "\n",
              "    .dataframe tbody tr th {\n",
              "        vertical-align: top;\n",
              "    }\n",
              "\n",
              "    .dataframe thead th {\n",
              "        text-align: right;\n",
              "    }\n",
              "</style>\n",
              "<table border=\"1\" class=\"dataframe\">\n",
              "  <thead>\n",
              "    <tr style=\"text-align: right;\">\n",
              "      <th></th>\n",
              "      <th>CreditScore</th>\n",
              "      <th>Age</th>\n",
              "      <th>Tenure</th>\n",
              "      <th>Balance</th>\n",
              "      <th>NumOfProducts</th>\n",
              "      <th>HasCrCard</th>\n",
              "      <th>IsActiveMember</th>\n",
              "      <th>EstimatedSalary</th>\n",
              "      <th>Exited</th>\n",
              "      <th>Geography_Germany</th>\n",
              "      <th>Geography_Spain</th>\n",
              "      <th>Gender_Male</th>\n",
              "    </tr>\n",
              "  </thead>\n",
              "  <tbody>\n",
              "    <tr>\n",
              "      <th>0</th>\n",
              "      <td>619</td>\n",
              "      <td>42</td>\n",
              "      <td>2</td>\n",
              "      <td>0.00</td>\n",
              "      <td>1</td>\n",
              "      <td>1</td>\n",
              "      <td>1</td>\n",
              "      <td>101348.88</td>\n",
              "      <td>1</td>\n",
              "      <td>0</td>\n",
              "      <td>0</td>\n",
              "      <td>0</td>\n",
              "    </tr>\n",
              "    <tr>\n",
              "      <th>1</th>\n",
              "      <td>608</td>\n",
              "      <td>41</td>\n",
              "      <td>1</td>\n",
              "      <td>83807.86</td>\n",
              "      <td>1</td>\n",
              "      <td>0</td>\n",
              "      <td>1</td>\n",
              "      <td>112542.58</td>\n",
              "      <td>0</td>\n",
              "      <td>0</td>\n",
              "      <td>1</td>\n",
              "      <td>0</td>\n",
              "    </tr>\n",
              "    <tr>\n",
              "      <th>2</th>\n",
              "      <td>502</td>\n",
              "      <td>42</td>\n",
              "      <td>8</td>\n",
              "      <td>159660.80</td>\n",
              "      <td>3</td>\n",
              "      <td>1</td>\n",
              "      <td>0</td>\n",
              "      <td>113931.57</td>\n",
              "      <td>1</td>\n",
              "      <td>0</td>\n",
              "      <td>0</td>\n",
              "      <td>0</td>\n",
              "    </tr>\n",
              "    <tr>\n",
              "      <th>3</th>\n",
              "      <td>699</td>\n",
              "      <td>39</td>\n",
              "      <td>1</td>\n",
              "      <td>0.00</td>\n",
              "      <td>2</td>\n",
              "      <td>0</td>\n",
              "      <td>0</td>\n",
              "      <td>93826.63</td>\n",
              "      <td>0</td>\n",
              "      <td>0</td>\n",
              "      <td>0</td>\n",
              "      <td>0</td>\n",
              "    </tr>\n",
              "    <tr>\n",
              "      <th>4</th>\n",
              "      <td>850</td>\n",
              "      <td>43</td>\n",
              "      <td>2</td>\n",
              "      <td>125510.82</td>\n",
              "      <td>1</td>\n",
              "      <td>1</td>\n",
              "      <td>1</td>\n",
              "      <td>79084.10</td>\n",
              "      <td>0</td>\n",
              "      <td>0</td>\n",
              "      <td>1</td>\n",
              "      <td>0</td>\n",
              "    </tr>\n",
              "  </tbody>\n",
              "</table>\n",
              "</div>"
            ],
            "text/plain": [
              "   CreditScore  Age  Tenure  ...  Geography_Germany  Geography_Spain  Gender_Male\n",
              "0          619   42       2  ...                  0                0            0\n",
              "1          608   41       1  ...                  0                1            0\n",
              "2          502   42       8  ...                  0                0            0\n",
              "3          699   39       1  ...                  0                0            0\n",
              "4          850   43       2  ...                  0                1            0\n",
              "\n",
              "[5 rows x 12 columns]"
            ]
          },
          "metadata": {
            "tags": []
          },
          "execution_count": 8
        }
      ]
    },
    {
      "cell_type": "code",
      "metadata": {
        "id": "dN5I7qMwrC9_",
        "colab_type": "code",
        "colab": {
          "base_uri": "https://localhost:8080/",
          "height": 224
        },
        "outputId": "dc918efd-d1dd-40b5-9aa6-12049a0cf337"
      },
      "source": [
        "# Dropping the target variable and creating the depednent & independent variables #\n",
        "Y= X1['Exited']\n",
        "Y.head()\n",
        "X1 = X1.drop(['Exited'],axis=1)\n",
        "X1.head()"
      ],
      "execution_count": 9,
      "outputs": [
        {
          "output_type": "execute_result",
          "data": {
            "text/html": [
              "<div>\n",
              "<style scoped>\n",
              "    .dataframe tbody tr th:only-of-type {\n",
              "        vertical-align: middle;\n",
              "    }\n",
              "\n",
              "    .dataframe tbody tr th {\n",
              "        vertical-align: top;\n",
              "    }\n",
              "\n",
              "    .dataframe thead th {\n",
              "        text-align: right;\n",
              "    }\n",
              "</style>\n",
              "<table border=\"1\" class=\"dataframe\">\n",
              "  <thead>\n",
              "    <tr style=\"text-align: right;\">\n",
              "      <th></th>\n",
              "      <th>CreditScore</th>\n",
              "      <th>Age</th>\n",
              "      <th>Tenure</th>\n",
              "      <th>Balance</th>\n",
              "      <th>NumOfProducts</th>\n",
              "      <th>HasCrCard</th>\n",
              "      <th>IsActiveMember</th>\n",
              "      <th>EstimatedSalary</th>\n",
              "      <th>Geography_Germany</th>\n",
              "      <th>Geography_Spain</th>\n",
              "      <th>Gender_Male</th>\n",
              "    </tr>\n",
              "  </thead>\n",
              "  <tbody>\n",
              "    <tr>\n",
              "      <th>0</th>\n",
              "      <td>619</td>\n",
              "      <td>42</td>\n",
              "      <td>2</td>\n",
              "      <td>0.00</td>\n",
              "      <td>1</td>\n",
              "      <td>1</td>\n",
              "      <td>1</td>\n",
              "      <td>101348.88</td>\n",
              "      <td>0</td>\n",
              "      <td>0</td>\n",
              "      <td>0</td>\n",
              "    </tr>\n",
              "    <tr>\n",
              "      <th>1</th>\n",
              "      <td>608</td>\n",
              "      <td>41</td>\n",
              "      <td>1</td>\n",
              "      <td>83807.86</td>\n",
              "      <td>1</td>\n",
              "      <td>0</td>\n",
              "      <td>1</td>\n",
              "      <td>112542.58</td>\n",
              "      <td>0</td>\n",
              "      <td>1</td>\n",
              "      <td>0</td>\n",
              "    </tr>\n",
              "    <tr>\n",
              "      <th>2</th>\n",
              "      <td>502</td>\n",
              "      <td>42</td>\n",
              "      <td>8</td>\n",
              "      <td>159660.80</td>\n",
              "      <td>3</td>\n",
              "      <td>1</td>\n",
              "      <td>0</td>\n",
              "      <td>113931.57</td>\n",
              "      <td>0</td>\n",
              "      <td>0</td>\n",
              "      <td>0</td>\n",
              "    </tr>\n",
              "    <tr>\n",
              "      <th>3</th>\n",
              "      <td>699</td>\n",
              "      <td>39</td>\n",
              "      <td>1</td>\n",
              "      <td>0.00</td>\n",
              "      <td>2</td>\n",
              "      <td>0</td>\n",
              "      <td>0</td>\n",
              "      <td>93826.63</td>\n",
              "      <td>0</td>\n",
              "      <td>0</td>\n",
              "      <td>0</td>\n",
              "    </tr>\n",
              "    <tr>\n",
              "      <th>4</th>\n",
              "      <td>850</td>\n",
              "      <td>43</td>\n",
              "      <td>2</td>\n",
              "      <td>125510.82</td>\n",
              "      <td>1</td>\n",
              "      <td>1</td>\n",
              "      <td>1</td>\n",
              "      <td>79084.10</td>\n",
              "      <td>0</td>\n",
              "      <td>1</td>\n",
              "      <td>0</td>\n",
              "    </tr>\n",
              "  </tbody>\n",
              "</table>\n",
              "</div>"
            ],
            "text/plain": [
              "   CreditScore  Age  Tenure  ...  Geography_Germany  Geography_Spain  Gender_Male\n",
              "0          619   42       2  ...                  0                0            0\n",
              "1          608   41       1  ...                  0                1            0\n",
              "2          502   42       8  ...                  0                0            0\n",
              "3          699   39       1  ...                  0                0            0\n",
              "4          850   43       2  ...                  0                1            0\n",
              "\n",
              "[5 rows x 11 columns]"
            ]
          },
          "metadata": {
            "tags": []
          },
          "execution_count": 9
        }
      ]
    },
    {
      "cell_type": "code",
      "metadata": {
        "id": "B6ZS0Svwrf87",
        "colab_type": "code",
        "colab": {
          "base_uri": "https://localhost:8080/",
          "height": 221
        },
        "outputId": "e4267e16-bcfd-4933-da05-152ee301a9c5"
      },
      "source": [
        "X1.isnull().sum()"
      ],
      "execution_count": null,
      "outputs": [
        {
          "output_type": "execute_result",
          "data": {
            "text/plain": [
              "CreditScore          0\n",
              "Age                  0\n",
              "Tenure               0\n",
              "Balance              0\n",
              "NumOfProducts        0\n",
              "HasCrCard            0\n",
              "IsActiveMember       0\n",
              "EstimatedSalary      0\n",
              "Geography_Germany    0\n",
              "Geography_Spain      0\n",
              "Gender_Male          0\n",
              "dtype: int64"
            ]
          },
          "metadata": {
            "tags": []
          },
          "execution_count": 19
        }
      ]
    },
    {
      "cell_type": "code",
      "metadata": {
        "id": "pKOaubO8r4jj",
        "colab_type": "code",
        "colab": {
          "base_uri": "https://localhost:8080/",
          "height": 34
        },
        "outputId": "d3917487-23f3-4219-ae80-6105b304d79e"
      },
      "source": [
        "X1.shape"
      ],
      "execution_count": null,
      "outputs": [
        {
          "output_type": "execute_result",
          "data": {
            "text/plain": [
              "(10000, 11)"
            ]
          },
          "metadata": {
            "tags": []
          },
          "execution_count": 20
        }
      ]
    },
    {
      "cell_type": "code",
      "metadata": {
        "id": "I0vUMuFqr0h8",
        "colab_type": "code",
        "colab": {
          "base_uri": "https://localhost:8080/",
          "height": 34
        },
        "outputId": "09c3a9fe-6d71-4096-f502-2fa8d03411a1"
      },
      "source": [
        "X1 = X1.drop_duplicates()\n",
        "X1.shape\n",
        "# Missing values -None\n",
        "# Duplicates - None\n",
        "# Checking for redundancy - None\n",
        "# Feature Engineering- Categorical to Numerical - Done, Feature Scaling -Standard Scalar , Feature reduction- Factor Analysis -Not required#"
      ],
      "execution_count": null,
      "outputs": [
        {
          "output_type": "execute_result",
          "data": {
            "text/plain": [
              "(10000, 11)"
            ]
          },
          "metadata": {
            "tags": []
          },
          "execution_count": 11
        }
      ]
    },
    {
      "cell_type": "code",
      "metadata": {
        "id": "4Iay4ZCrszuS",
        "colab_type": "code",
        "colab": {
          "base_uri": "https://localhost:8080/",
          "height": 224
        },
        "outputId": "f7d22c89-4e49-4f9e-db48-befb5cd94cb5"
      },
      "source": [
        "# Feature Scaling -Min Max scaler #\n",
        "\n",
        "from sklearn.preprocessing import MinMaxScaler\n",
        "mn1 = MinMaxScaler()\n",
        "x = pd.DataFrame(mn1.fit_transform(X1), columns=X1.columns)\n",
        "x.head()"
      ],
      "execution_count": 12,
      "outputs": [
        {
          "output_type": "execute_result",
          "data": {
            "text/html": [
              "<div>\n",
              "<style scoped>\n",
              "    .dataframe tbody tr th:only-of-type {\n",
              "        vertical-align: middle;\n",
              "    }\n",
              "\n",
              "    .dataframe tbody tr th {\n",
              "        vertical-align: top;\n",
              "    }\n",
              "\n",
              "    .dataframe thead th {\n",
              "        text-align: right;\n",
              "    }\n",
              "</style>\n",
              "<table border=\"1\" class=\"dataframe\">\n",
              "  <thead>\n",
              "    <tr style=\"text-align: right;\">\n",
              "      <th></th>\n",
              "      <th>CreditScore</th>\n",
              "      <th>Age</th>\n",
              "      <th>Tenure</th>\n",
              "      <th>Balance</th>\n",
              "      <th>NumOfProducts</th>\n",
              "      <th>HasCrCard</th>\n",
              "      <th>IsActiveMember</th>\n",
              "      <th>EstimatedSalary</th>\n",
              "      <th>Geography_Germany</th>\n",
              "      <th>Geography_Spain</th>\n",
              "      <th>Gender_Male</th>\n",
              "    </tr>\n",
              "  </thead>\n",
              "  <tbody>\n",
              "    <tr>\n",
              "      <th>0</th>\n",
              "      <td>0.538</td>\n",
              "      <td>0.324324</td>\n",
              "      <td>0.2</td>\n",
              "      <td>0.000000</td>\n",
              "      <td>0.000000</td>\n",
              "      <td>1.0</td>\n",
              "      <td>1.0</td>\n",
              "      <td>0.506735</td>\n",
              "      <td>0.0</td>\n",
              "      <td>0.0</td>\n",
              "      <td>0.0</td>\n",
              "    </tr>\n",
              "    <tr>\n",
              "      <th>1</th>\n",
              "      <td>0.516</td>\n",
              "      <td>0.310811</td>\n",
              "      <td>0.1</td>\n",
              "      <td>0.334031</td>\n",
              "      <td>0.000000</td>\n",
              "      <td>0.0</td>\n",
              "      <td>1.0</td>\n",
              "      <td>0.562709</td>\n",
              "      <td>0.0</td>\n",
              "      <td>1.0</td>\n",
              "      <td>0.0</td>\n",
              "    </tr>\n",
              "    <tr>\n",
              "      <th>2</th>\n",
              "      <td>0.304</td>\n",
              "      <td>0.324324</td>\n",
              "      <td>0.8</td>\n",
              "      <td>0.636357</td>\n",
              "      <td>0.666667</td>\n",
              "      <td>1.0</td>\n",
              "      <td>0.0</td>\n",
              "      <td>0.569654</td>\n",
              "      <td>0.0</td>\n",
              "      <td>0.0</td>\n",
              "      <td>0.0</td>\n",
              "    </tr>\n",
              "    <tr>\n",
              "      <th>3</th>\n",
              "      <td>0.698</td>\n",
              "      <td>0.283784</td>\n",
              "      <td>0.1</td>\n",
              "      <td>0.000000</td>\n",
              "      <td>0.333333</td>\n",
              "      <td>0.0</td>\n",
              "      <td>0.0</td>\n",
              "      <td>0.469120</td>\n",
              "      <td>0.0</td>\n",
              "      <td>0.0</td>\n",
              "      <td>0.0</td>\n",
              "    </tr>\n",
              "    <tr>\n",
              "      <th>4</th>\n",
              "      <td>1.000</td>\n",
              "      <td>0.337838</td>\n",
              "      <td>0.2</td>\n",
              "      <td>0.500246</td>\n",
              "      <td>0.000000</td>\n",
              "      <td>1.0</td>\n",
              "      <td>1.0</td>\n",
              "      <td>0.395400</td>\n",
              "      <td>0.0</td>\n",
              "      <td>1.0</td>\n",
              "      <td>0.0</td>\n",
              "    </tr>\n",
              "  </tbody>\n",
              "</table>\n",
              "</div>"
            ],
            "text/plain": [
              "   CreditScore       Age  ...  Geography_Spain  Gender_Male\n",
              "0        0.538  0.324324  ...              0.0          0.0\n",
              "1        0.516  0.310811  ...              1.0          0.0\n",
              "2        0.304  0.324324  ...              0.0          0.0\n",
              "3        0.698  0.283784  ...              0.0          0.0\n",
              "4        1.000  0.337838  ...              1.0          0.0\n",
              "\n",
              "[5 rows x 11 columns]"
            ]
          },
          "metadata": {
            "tags": []
          },
          "execution_count": 12
        }
      ]
    },
    {
      "cell_type": "code",
      "metadata": {
        "id": "evss3xe3tea6",
        "colab_type": "code",
        "colab": {}
      },
      "source": [
        "# Building the ML Models #\n",
        "\n",
        "from sklearn.metrics import confusion_matrix\n",
        "from sklearn.metrics import classification_report\n",
        "from sklearn.model_selection import train_test_split\n",
        "from sklearn.tree import DecisionTreeClassifier\n",
        "from sklearn.metrics import accuracy_score\n",
        "from sklearn.ensemble import RandomForestClassifier"
      ],
      "execution_count": 13,
      "outputs": []
    },
    {
      "cell_type": "code",
      "metadata": {
        "id": "eKuwDurbURgl",
        "colab_type": "code",
        "colab": {
          "base_uri": "https://localhost:8080/",
          "height": 51
        },
        "outputId": "9e2e9f78-0ce7-4a28-ea52-6d5228e1cf2c"
      },
      "source": [
        "# Spitting the data into test and train #\n",
        "from sklearn.model_selection import train_test_split\n",
        "\n",
        "x_train,x_test,y_train,y_test = train_test_split(x,Y,test_size=0.2)\n",
        "print(x_test.shape)\n",
        "print(y_train.shape)"
      ],
      "execution_count": 14,
      "outputs": [
        {
          "output_type": "stream",
          "text": [
            "(2000, 11)\n",
            "(8000,)\n"
          ],
          "name": "stdout"
        }
      ]
    },
    {
      "cell_type": "code",
      "metadata": {
        "id": "7NCXxfRYYzkS",
        "colab_type": "code",
        "colab": {}
      },
      "source": [
        "# Parameters\n",
        "# min_samples_leaf=#70,60,75,50\n",
        "# max_leaf_nodes =9,10,11,12,13\n",
        "# max_depth = 4,5,6,7"
      ],
      "execution_count": null,
      "outputs": []
    },
    {
      "cell_type": "code",
      "metadata": {
        "id": "raU7OhvOYbro",
        "colab_type": "code",
        "colab": {
          "base_uri": "https://localhost:8080/",
          "height": 119
        },
        "outputId": "70a5432a-d772-4280-b9ae-5b682ca79ca6"
      },
      "source": [
        "# Applying the Decision tree algorithm #\n",
        "# max_leaf_nodes : maximum no. of leaf nodes allowed (5 and then increase)\n",
        "#min_samples_leaf: minimum no. of samples in leaf node required for split : (5% of total observations)\n",
        "#max_depth: max depth of the decision tree (start with 5)\n",
        "# min_samples_split\n",
        "\n",
        "dtc = DecisionTreeClassifier(max_depth=4)\n",
        "mo = dtc.fit(x_train,y_train)\n",
        "mo"
      ],
      "execution_count": 15,
      "outputs": [
        {
          "output_type": "execute_result",
          "data": {
            "text/plain": [
              "DecisionTreeClassifier(ccp_alpha=0.0, class_weight=None, criterion='gini',\n",
              "                       max_depth=4, max_features=None, max_leaf_nodes=None,\n",
              "                       min_impurity_decrease=0.0, min_impurity_split=None,\n",
              "                       min_samples_leaf=1, min_samples_split=2,\n",
              "                       min_weight_fraction_leaf=0.0, presort='deprecated',\n",
              "                       random_state=None, splitter='best')"
            ]
          },
          "metadata": {
            "tags": []
          },
          "execution_count": 15
        }
      ]
    },
    {
      "cell_type": "code",
      "metadata": {
        "id": "eoSztoEeZOtd",
        "colab_type": "code",
        "colab": {
          "base_uri": "https://localhost:8080/",
          "height": 34
        },
        "outputId": "a252e8fb-b784-480e-ace3-05609961334b"
      },
      "source": [
        "y_pred_train=mo.predict(x_train)\n",
        "y_pred_train = y_pred_train >0.5\n",
        "acc = accuracy_score(y_pred_train,y_train)\n",
        "acc"
      ],
      "execution_count": 16,
      "outputs": [
        {
          "output_type": "execute_result",
          "data": {
            "text/plain": [
              "0.850125"
            ]
          },
          "metadata": {
            "tags": []
          },
          "execution_count": 16
        }
      ]
    },
    {
      "cell_type": "code",
      "metadata": {
        "id": "1m3AX_1iYkob",
        "colab_type": "code",
        "colab": {}
      },
      "source": [
        "\n",
        "y_pred = mo.predict(x_test)\n",
        "y_pred  = y_pred>0.5"
      ],
      "execution_count": 17,
      "outputs": []
    },
    {
      "cell_type": "code",
      "metadata": {
        "id": "8PWzSaDIY5CU",
        "colab_type": "code",
        "colab": {
          "base_uri": "https://localhost:8080/",
          "height": 34
        },
        "outputId": "8265e084-c0c1-4399-f3fb-8495eaf928dd"
      },
      "source": [
        "Acc = accuracy_score(y_pred,y_test)\n",
        "Acc"
      ],
      "execution_count": 18,
      "outputs": [
        {
          "output_type": "execute_result",
          "data": {
            "text/plain": [
              "0.856"
            ]
          },
          "metadata": {
            "tags": []
          },
          "execution_count": 18
        }
      ]
    },
    {
      "cell_type": "code",
      "metadata": {
        "id": "W38YWMY1Y_9y",
        "colab_type": "code",
        "colab": {
          "base_uri": "https://localhost:8080/",
          "height": 153
        },
        "outputId": "74560572-29d5-42a3-e4e9-812d832c6a16"
      },
      "source": [
        "# Random Forest Model #\n",
        "from sklearn.ensemble import RandomForestClassifier\n",
        "\n",
        "rf = RandomForestClassifier(n_estimators=90,max_features=3, min_samples_leaf=70)\n",
        "rf"
      ],
      "execution_count": 19,
      "outputs": [
        {
          "output_type": "execute_result",
          "data": {
            "text/plain": [
              "RandomForestClassifier(bootstrap=True, ccp_alpha=0.0, class_weight=None,\n",
              "                       criterion='gini', max_depth=None, max_features=3,\n",
              "                       max_leaf_nodes=None, max_samples=None,\n",
              "                       min_impurity_decrease=0.0, min_impurity_split=None,\n",
              "                       min_samples_leaf=70, min_samples_split=2,\n",
              "                       min_weight_fraction_leaf=0.0, n_estimators=90,\n",
              "                       n_jobs=None, oob_score=False, random_state=None,\n",
              "                       verbose=0, warm_start=False)"
            ]
          },
          "metadata": {
            "tags": []
          },
          "execution_count": 19
        }
      ]
    },
    {
      "cell_type": "code",
      "metadata": {
        "id": "4Z5pVXsBY1cD",
        "colab_type": "code",
        "colab": {}
      },
      "source": [
        "mo1 = rf.fit(x_train,y_train)"
      ],
      "execution_count": 20,
      "outputs": []
    },
    {
      "cell_type": "code",
      "metadata": {
        "id": "LYdmJZXYVgcm",
        "colab_type": "code",
        "colab": {
          "base_uri": "https://localhost:8080/",
          "height": 34
        },
        "outputId": "38716d7c-f5e7-40e6-b3a3-67a13639d5fc"
      },
      "source": [
        "y_pred_train=mo1.predict(x_train)\n",
        "y_pred_train = y_pred_train >0.5\n",
        "acc = accuracy_score(y_pred_train,y_train)\n",
        "acc\n"
      ],
      "execution_count": 21,
      "outputs": [
        {
          "output_type": "execute_result",
          "data": {
            "text/plain": [
              "0.85075"
            ]
          },
          "metadata": {
            "tags": []
          },
          "execution_count": 21
        }
      ]
    },
    {
      "cell_type": "code",
      "metadata": {
        "id": "U6KA4Ul_ZE19",
        "colab_type": "code",
        "colab": {
          "base_uri": "https://localhost:8080/",
          "height": 34
        },
        "outputId": "8c654dc3-d93c-4c55-bc33-3dbf449c7351"
      },
      "source": [
        "\n",
        "y_pred_test = mo1.predict(x_test)\n",
        "\n",
        "acc = accuracy_score(y_pred_test,y_test)\n",
        "acc"
      ],
      "execution_count": 22,
      "outputs": [
        {
          "output_type": "execute_result",
          "data": {
            "text/plain": [
              "0.8495"
            ]
          },
          "metadata": {
            "tags": []
          },
          "execution_count": 22
        }
      ]
    },
    {
      "cell_type": "code",
      "metadata": {
        "id": "QGOne3qWap3A",
        "colab_type": "code",
        "colab": {}
      },
      "source": [
        "# Parameters\n",
        "# min_samples_leaf=#70,60,75,50\n",
        "# max_leaf_nodes =9,10,11,12,13\n",
        "# max_depth = 4,5,6,7\n",
        "# max_features =2,3,4\n",
        "# n_estimators = 70,80,90,100"
      ],
      "execution_count": null,
      "outputs": []
    },
    {
      "cell_type": "code",
      "metadata": {
        "id": "dpMr-en0ZQ_9",
        "colab_type": "code",
        "colab": {}
      },
      "source": [
        "# Hyper parameter tuning along wiht usung the randome forest alforirhm #\n",
        "\n",
        "\n",
        "params = {'max_depth' :[4,5,6,7],'max_features':[2,3,4],'n_estimators':[70,80,90,100]}\n"
      ],
      "execution_count": null,
      "outputs": []
    },
    {
      "cell_type": "code",
      "metadata": {
        "id": "6qQteAd1ZUSz",
        "colab_type": "code",
        "colab": {}
      },
      "source": [
        "from sklearn.model_selection import GridSearchCV\n",
        "\n",
        "r = RandomForestClassifier()\n",
        "grid1 = GridSearchCV(r,params,cv=5)\n",
        "mo_gr = grid1.fit(x_train,y_train)"
      ],
      "execution_count": null,
      "outputs": []
    },
    {
      "cell_type": "code",
      "metadata": {
        "id": "NsgsvAEQZWLh",
        "colab_type": "code",
        "colab": {
          "base_uri": "https://localhost:8080/",
          "height": 187
        },
        "outputId": "52cb33a0-0ce3-4c3d-cc0b-15444b752e8d"
      },
      "source": [
        "print(mo_gr.best_score_)  # best score with best parameters #\n",
        "print(mo_gr.best_params_)\n",
        "print(mo_gr.best_estimator_)  "
      ],
      "execution_count": null,
      "outputs": [
        {
          "output_type": "stream",
          "text": [
            "0.8612500000000001\n",
            "{'max_depth': 7, 'max_features': 4, 'n_estimators': 70}\n",
            "RandomForestClassifier(bootstrap=True, ccp_alpha=0.0, class_weight=None,\n",
            "                       criterion='gini', max_depth=7, max_features=4,\n",
            "                       max_leaf_nodes=None, max_samples=None,\n",
            "                       min_impurity_decrease=0.0, min_impurity_split=None,\n",
            "                       min_samples_leaf=1, min_samples_split=2,\n",
            "                       min_weight_fraction_leaf=0.0, n_estimators=70,\n",
            "                       n_jobs=None, oob_score=False, random_state=None,\n",
            "                       verbose=0, warm_start=False)\n"
          ],
          "name": "stdout"
        }
      ]
    },
    {
      "cell_type": "code",
      "metadata": {
        "id": "h_zhgaqSnLUv",
        "colab_type": "code",
        "colab": {}
      },
      "source": [
        "# grid1 or mo_gr.best_estimator_ is the best trained model (with best parameters) could be used for prediction"
      ],
      "execution_count": null,
      "outputs": []
    },
    {
      "cell_type": "code",
      "metadata": {
        "id": "EdlLWiTPmITc",
        "colab_type": "code",
        "colab": {}
      },
      "source": [
        "cp = mo_gr.best_estimator_"
      ],
      "execution_count": null,
      "outputs": []
    },
    {
      "cell_type": "code",
      "metadata": {
        "id": "OP-vINKSkcpj",
        "colab_type": "code",
        "colab": {}
      },
      "source": [
        "# Best parameters : 'max_depth': 5, 'max_features': 4, 'max_leaf_nodes': 12, 'min_samples_leaf': 50, 'n_estimators': 100\n",
        "# Cross Val Score : 0.865\n",
        "# test score : 0.848"
      ],
      "execution_count": null,
      "outputs": []
    },
    {
      "cell_type": "code",
      "metadata": {
        "id": "ZCnod7c8Zi3R",
        "colab_type": "code",
        "colab": {}
      },
      "source": [
        "estimator = RandomForestClassifier(bootstrap=True, ccp_alpha=0.0, class_weight=None,\n",
        "                       criterion='gini', max_depth=7, max_features=4,\n",
        "                       max_leaf_nodes=None, max_samples=None,\n",
        "                       min_impurity_decrease=0.0, min_impurity_split=None,\n",
        "                       min_samples_leaf=1, min_samples_split=2,\n",
        "                       min_weight_fraction_leaf=0.0, n_estimators=70,\n",
        "                       n_jobs=None, oob_score=False, random_state=None,\n",
        "                       verbose=0, warm_start=False) # add the best model #"
      ],
      "execution_count": null,
      "outputs": []
    },
    {
      "cell_type": "code",
      "metadata": {
        "id": "XntzKq95npm9",
        "colab_type": "code",
        "colab": {}
      },
      "source": [
        "# this estimator used above is the one with best params, but it is not a trained model , so it can not be used for testing performamce of test data#"
      ],
      "execution_count": null,
      "outputs": []
    },
    {
      "cell_type": "code",
      "metadata": {
        "id": "JHFSemoeZrOD",
        "colab_type": "code",
        "colab": {}
      },
      "source": [
        "from sklearn.model_selection import cross_val_score"
      ],
      "execution_count": null,
      "outputs": []
    },
    {
      "cell_type": "code",
      "metadata": {
        "id": "bywZRVZwZtCO",
        "colab_type": "code",
        "colab": {
          "base_uri": "https://localhost:8080/",
          "height": 68
        },
        "outputId": "95c1ad64-2bf8-44fd-af7a-d9bd2278c669"
      },
      "source": [
        "score = cross_val_score(estimator,x,Y,cv=15)\n",
        "score\n",
        "# cross val_score will try to first train tyhe data and then validate yhe same on tyhe remaining folds #"
      ],
      "execution_count": null,
      "outputs": [
        {
          "output_type": "execute_result",
          "data": {
            "text/plain": [
              "array([0.86356822, 0.85007496, 0.85757121, 0.87106447, 0.87556222,\n",
              "       0.86056972, 0.87256372, 0.86056972, 0.85607196, 0.86206897,\n",
              "       0.87837838, 0.85885886, 0.86486486, 0.84684685, 0.85735736])"
            ]
          },
          "metadata": {
            "tags": []
          },
          "execution_count": 81
        }
      ]
    },
    {
      "cell_type": "code",
      "metadata": {
        "id": "7eaY2GMUZ909",
        "colab_type": "code",
        "colab": {
          "base_uri": "https://localhost:8080/",
          "height": 34
        },
        "outputId": "34308766-2b17-46fd-b7d6-28ce25c43279"
      },
      "source": [
        "score.mean()\n",
        "\n",
        "# this shows if we use any random data we can get an avg. accuracy of 0.862"
      ],
      "execution_count": null,
      "outputs": [
        {
          "output_type": "execute_result",
          "data": {
            "text/plain": [
              "0.8623994309151731"
            ]
          },
          "metadata": {
            "tags": []
          },
          "execution_count": 82
        }
      ]
    },
    {
      "cell_type": "code",
      "metadata": {
        "id": "-3PtRppZaBbn",
        "colab_type": "code",
        "colab": {
          "base_uri": "https://localhost:8080/",
          "height": 34
        },
        "outputId": "6a4cc08b-b311-4000-d3f4-129a8103f62c"
      },
      "source": [
        "# So for test data, we need to use trained model, which is grid1 or cp = mo_gr.best_estimator_ both are same\n",
        "# performancer on test data #\n",
        "y_pred = cp.predict(x_test)\n",
        "y_pred = y_pred>0.5\n",
        "acc = accuracy_score(y_pred,y_test)\n",
        "acc\n",
        "\n",
        "# Testing accuracy of 0.87"
      ],
      "execution_count": null,
      "outputs": [
        {
          "output_type": "execute_result",
          "data": {
            "text/plain": [
              "0.87"
            ]
          },
          "metadata": {
            "tags": []
          },
          "execution_count": 83
        }
      ]
    },
    {
      "cell_type": "code",
      "metadata": {
        "id": "zlaZ7kZAby2C",
        "colab_type": "code",
        "colab": {}
      },
      "source": [
        "# Building the model with Xgboosting #\n",
        "\n",
        "## Hyper Parameter Optimization\n",
        "\n",
        "params={\n",
        " \"learning_rate\"    : [0.05, 0.10, 0.15, 0.20, 0.25, 0.30 ] ,\n",
        " \"max_depth\"        : [ 3, 4, 5, 6, 8, 10],\n",
        " \"min_child_weight\" : [ 1, 3, 5, 7 ],\n",
        " \"gamma\"            : [ 0.0,0.1, 0.2 , 0.3, 0.4 ],\n",
        " \"colsample_bytree\" : [ 0.3, 0.4, 0.5 , 0.7 ]\n",
        "    \n",
        "}"
      ],
      "execution_count": null,
      "outputs": []
    },
    {
      "cell_type": "code",
      "metadata": {
        "id": "Xs6MU8Wgb6nF",
        "colab_type": "code",
        "colab": {}
      },
      "source": [
        "## Hyperparameter optimization using RandomizedSearchCV\n",
        "from sklearn.model_selection import RandomizedSearchCV\n",
        "import xgboost"
      ],
      "execution_count": null,
      "outputs": []
    },
    {
      "cell_type": "code",
      "metadata": {
        "id": "pJ1K7iExb9jc",
        "colab_type": "code",
        "colab": {}
      },
      "source": [
        "classifier=xgboost.XGBClassifier()"
      ],
      "execution_count": null,
      "outputs": []
    },
    {
      "cell_type": "code",
      "metadata": {
        "id": "HakuU8O1cBkO",
        "colab_type": "code",
        "colab": {}
      },
      "source": [
        "random_search=RandomizedSearchCV(classifier,param_distributions=params,n_iter=15,scoring='roc_auc',n_jobs=-1,cv=10,verbose=3)"
      ],
      "execution_count": null,
      "outputs": []
    },
    {
      "cell_type": "code",
      "metadata": {
        "id": "VX1KC3WocDd1",
        "colab_type": "code",
        "colab": {}
      },
      "source": [
        "def timer(start_time=None):\n",
        "    if not start_time:\n",
        "        start_time = datetime.now()\n",
        "        return start_time\n",
        "    elif start_time:\n",
        "        thour, temp_sec = divmod((datetime.now() - start_time).total_seconds(), 3600)\n",
        "        tmin, tsec = divmod(temp_sec, 60)\n",
        "        print('\\n Time taken: %i hours %i minutes and %s seconds.' % (thour, tmin, round(tsec, 2)))"
      ],
      "execution_count": null,
      "outputs": []
    },
    {
      "cell_type": "code",
      "metadata": {
        "id": "-KVeAmErcHr4",
        "colab_type": "code",
        "colab": {
          "base_uri": "https://localhost:8080/",
          "height": 136
        },
        "outputId": "7c457e1a-788b-4b36-99b7-0698a449822b"
      },
      "source": [
        "from datetime import datetime\n",
        "# Here we go\n",
        "start_time = timer(None) # timing starts from this point for \"start_time\" variable\n",
        "model = random_search.fit(x_train,y_train)\n",
        "timer(start_time) # timing ends here for \"start_time\" variable"
      ],
      "execution_count": null,
      "outputs": [
        {
          "output_type": "stream",
          "text": [
            "Fitting 10 folds for each of 15 candidates, totalling 150 fits\n"
          ],
          "name": "stdout"
        },
        {
          "output_type": "stream",
          "text": [
            "[Parallel(n_jobs=-1)]: Using backend LokyBackend with 2 concurrent workers.\n",
            "[Parallel(n_jobs=-1)]: Done  28 tasks      | elapsed:   10.9s\n",
            "[Parallel(n_jobs=-1)]: Done 124 tasks      | elapsed:   38.7s\n",
            "[Parallel(n_jobs=-1)]: Done 150 out of 150 | elapsed:   50.0s finished\n"
          ],
          "name": "stderr"
        },
        {
          "output_type": "stream",
          "text": [
            "\n",
            " Time taken: 0 hours 0 minutes and 50.53 seconds.\n"
          ],
          "name": "stdout"
        }
      ]
    },
    {
      "cell_type": "code",
      "metadata": {
        "id": "WIExRJNgcMvu",
        "colab_type": "code",
        "colab": {
          "base_uri": "https://localhost:8080/",
          "height": 170
        },
        "outputId": "496c624b-ebfc-4332-95ea-1cc4bb06093b"
      },
      "source": [
        "print(model.best_score_)\n",
        "print(model.best_params_)\n",
        "print(model.best_estimator_)"
      ],
      "execution_count": null,
      "outputs": [
        {
          "output_type": "stream",
          "text": [
            "0.8674294477081406\n",
            "{'min_child_weight': 7, 'max_depth': 4, 'learning_rate': 0.2, 'gamma': 0.1, 'colsample_bytree': 0.7}\n",
            "XGBClassifier(base_score=0.5, booster='gbtree', colsample_bylevel=1,\n",
            "              colsample_bynode=1, colsample_bytree=0.7, gamma=0.1,\n",
            "              learning_rate=0.2, max_delta_step=0, max_depth=4,\n",
            "              min_child_weight=7, missing=None, n_estimators=100, n_jobs=1,\n",
            "              nthread=None, objective='binary:logistic', random_state=0,\n",
            "              reg_alpha=0, reg_lambda=1, scale_pos_weight=1, seed=None,\n",
            "              silent=None, subsample=1, verbosity=1)\n"
          ],
          "name": "stdout"
        }
      ]
    },
    {
      "cell_type": "code",
      "metadata": {
        "id": "mAt-BFeXcPK1",
        "colab_type": "code",
        "colab": {}
      },
      "source": [
        "cp = model.best_estimator_\n",
        "cp"
      ],
      "execution_count": null,
      "outputs": []
    },
    {
      "cell_type": "code",
      "metadata": {
        "id": "-YTvTxo_cR4m",
        "colab_type": "code",
        "colab": {}
      },
      "source": [
        "m = xgboost.XGBClassifier(base_score=0.5, booster='gbtree', colsample_bylevel=1,\n",
        "              colsample_bynode=1, colsample_bytree=0.7, gamma=0.1,\n",
        "              learning_rate=0.2, max_delta_step=0, max_depth=4,\n",
        "              min_child_weight=7, missing=None, n_estimators=100, n_jobs=1,\n",
        "              nthread=None, objective='binary:logistic', random_state=0,\n",
        "              reg_alpha=0, reg_lambda=1, scale_pos_weight=1, seed=None,\n",
        "              silent=None, subsample=1, verbosity=1)"
      ],
      "execution_count": null,
      "outputs": []
    },
    {
      "cell_type": "code",
      "metadata": {
        "id": "115fb6TGcUZ7",
        "colab_type": "code",
        "colab": {
          "base_uri": "https://localhost:8080/",
          "height": 34
        },
        "outputId": "05149abf-a4d8-4a04-9e0c-92151b2820ae"
      },
      "source": [
        "# checking the average accuracy with this parameters #\n",
        "\n",
        "score = cross_val_score(m,x_train,y_train,cv=20)\n",
        "score\n",
        "score.mean()\n",
        "\n",
        "# Accuracy of 86.62% on any randomly selected data # "
      ],
      "execution_count": null,
      "outputs": [
        {
          "output_type": "execute_result",
          "data": {
            "text/plain": [
              "0.86625"
            ]
          },
          "metadata": {
            "tags": []
          },
          "execution_count": 94
        }
      ]
    },
    {
      "cell_type": "code",
      "metadata": {
        "id": "5KqGjV49d7RS",
        "colab_type": "code",
        "colab": {
          "base_uri": "https://localhost:8080/",
          "height": 34
        },
        "outputId": "0b110904-afd0-4dda-ab8f-d92a73d2ed60"
      },
      "source": [
        "# testing model of random forest #\n",
        "\n",
        "y_pred_test = cp.predict(x_test)\n",
        "\n",
        "y_pred_test = y_pred_test >0.5\n",
        "\n",
        "acc = accuracy_score(y_pred_test,y_test)\n",
        "\n",
        "print(acc)\n",
        "\n",
        "\n",
        "# test_accuracy :0.87 which is best accuracy so far #"
      ],
      "execution_count": null,
      "outputs": [
        {
          "output_type": "stream",
          "text": [
            "0.87\n"
          ],
          "name": "stdout"
        }
      ]
    },
    {
      "cell_type": "code",
      "metadata": {
        "id": "4VoC7VnTuiLk",
        "colab_type": "code",
        "colab": {
          "base_uri": "https://localhost:8080/",
          "height": 34
        },
        "outputId": "c4f0ecc3-9a12-410d-a8cf-790504ab03e5"
      },
      "source": [
        "# Building the keras classifier Model #\n",
        "import keras\n",
        "from keras.models import Sequential\n",
        "from keras.layers import LeakyReLU, PReLU, ELU\n",
        "from keras.layers import Dropout\n",
        "from keras.layers import Activation, Dense"
      ],
      "execution_count": 23,
      "outputs": [
        {
          "output_type": "stream",
          "text": [
            "Using TensorFlow backend.\n"
          ],
          "name": "stderr"
        }
      ]
    },
    {
      "cell_type": "code",
      "metadata": {
        "id": "iiIBEa28uzcb",
        "colab_type": "code",
        "colab": {}
      },
      "source": [
        "# Lets add the 1st hidden layer into tyhe neural network #\n",
        "# input_dim = 11 no. of variable, units = (11+1)/2 =6\n",
        "classifier = Sequential()\n",
        "\n",
        "classifier.add(Dense(units=20, kernel_initializer='he_normal', activation='relu',input_dim=11))"
      ],
      "execution_count": 87,
      "outputs": []
    },
    {
      "cell_type": "code",
      "metadata": {
        "id": "BhVDAPvPvH58",
        "colab_type": "code",
        "colab": {}
      },
      "source": [
        " # Lets add the 2nd hidden layer into tyhe neural network # # generally we keep he_unform or he_normal for activation function relu\n",
        "\n",
        "classifier.add(Dense(units=15, kernel_initializer='he_normal',activation='relu'))"
      ],
      "execution_count": 88,
      "outputs": []
    },
    {
      "cell_type": "code",
      "metadata": {
        "id": "yVjJPjR6vRbD",
        "colab_type": "code",
        "colab": {}
      },
      "source": [
        "## lets add the output layer into this neural network #\n",
        "# sigmoid for binary class classification or we csn also use 'tanh'\n",
        "classifier.add(Dense(units=1,kernel_initializer='glorot_uniform',activation='sigmoid'))"
      ],
      "execution_count": 89,
      "outputs": []
    },
    {
      "cell_type": "code",
      "metadata": {
        "id": "hyx34rpuvk1n",
        "colab_type": "code",
        "colab": {}
      },
      "source": [
        "# Compiling the model #\n",
        "\n",
        "classifier.compile(optimizer='Adam',loss='binary_crossentropy',metrics=['accuracy'])"
      ],
      "execution_count": 90,
      "outputs": []
    },
    {
      "cell_type": "code",
      "metadata": {
        "id": "y2bnKPJKv5m2",
        "colab_type": "code",
        "colab": {
          "base_uri": "https://localhost:8080/",
          "height": 1000
        },
        "outputId": "e60a055b-972f-4124-c51f-dd1e4d5b9ffb"
      },
      "source": [
        "# Fitting the model #\n",
        "\n",
        "model = classifier.fit(x_train,y_train,batch_size=10,epochs=100,validation_split=0.25)"
      ],
      "execution_count": 91,
      "outputs": [
        {
          "output_type": "stream",
          "text": [
            "Train on 6000 samples, validate on 2000 samples\n",
            "Epoch 1/100\n",
            "6000/6000 [==============================] - 2s 374us/step - loss: 0.5069 - accuracy: 0.7897 - val_loss: 0.4812 - val_accuracy: 0.7920\n",
            "Epoch 2/100\n",
            "6000/6000 [==============================] - 2s 326us/step - loss: 0.4611 - accuracy: 0.7988 - val_loss: 0.4590 - val_accuracy: 0.8040\n",
            "Epoch 3/100\n",
            "6000/6000 [==============================] - 2s 367us/step - loss: 0.4410 - accuracy: 0.8117 - val_loss: 0.4468 - val_accuracy: 0.8135\n",
            "Epoch 4/100\n",
            "6000/6000 [==============================] - 2s 329us/step - loss: 0.4292 - accuracy: 0.8177 - val_loss: 0.4449 - val_accuracy: 0.8135\n",
            "Epoch 5/100\n",
            "6000/6000 [==============================] - 2s 366us/step - loss: 0.4229 - accuracy: 0.8213 - val_loss: 0.4359 - val_accuracy: 0.8210\n",
            "Epoch 6/100\n",
            "6000/6000 [==============================] - 2s 332us/step - loss: 0.4162 - accuracy: 0.8237 - val_loss: 0.4395 - val_accuracy: 0.8145\n",
            "Epoch 7/100\n",
            "6000/6000 [==============================] - 2s 349us/step - loss: 0.4124 - accuracy: 0.8285 - val_loss: 0.4294 - val_accuracy: 0.8220\n",
            "Epoch 8/100\n",
            "6000/6000 [==============================] - 2s 351us/step - loss: 0.4068 - accuracy: 0.8285 - val_loss: 0.4260 - val_accuracy: 0.8225\n",
            "Epoch 9/100\n",
            "6000/6000 [==============================] - 2s 360us/step - loss: 0.4003 - accuracy: 0.8305 - val_loss: 0.4196 - val_accuracy: 0.8255\n",
            "Epoch 10/100\n",
            "6000/6000 [==============================] - 2s 368us/step - loss: 0.3936 - accuracy: 0.8383 - val_loss: 0.4136 - val_accuracy: 0.8275\n",
            "Epoch 11/100\n",
            "6000/6000 [==============================] - 2s 335us/step - loss: 0.3869 - accuracy: 0.8387 - val_loss: 0.4079 - val_accuracy: 0.8245\n",
            "Epoch 12/100\n",
            "6000/6000 [==============================] - 2s 340us/step - loss: 0.3802 - accuracy: 0.8432 - val_loss: 0.4040 - val_accuracy: 0.8245\n",
            "Epoch 13/100\n",
            "6000/6000 [==============================] - 2s 408us/step - loss: 0.3751 - accuracy: 0.8435 - val_loss: 0.3960 - val_accuracy: 0.8320\n",
            "Epoch 14/100\n",
            "6000/6000 [==============================] - 2s 349us/step - loss: 0.3690 - accuracy: 0.8470 - val_loss: 0.3945 - val_accuracy: 0.8325\n",
            "Epoch 15/100\n",
            "6000/6000 [==============================] - 2s 328us/step - loss: 0.3650 - accuracy: 0.8518 - val_loss: 0.3869 - val_accuracy: 0.8335\n",
            "Epoch 16/100\n",
            "6000/6000 [==============================] - 2s 328us/step - loss: 0.3615 - accuracy: 0.8498 - val_loss: 0.3852 - val_accuracy: 0.8365\n",
            "Epoch 17/100\n",
            "6000/6000 [==============================] - 2s 339us/step - loss: 0.3575 - accuracy: 0.8512 - val_loss: 0.3846 - val_accuracy: 0.8375\n",
            "Epoch 18/100\n",
            "6000/6000 [==============================] - 2s 332us/step - loss: 0.3572 - accuracy: 0.8522 - val_loss: 0.3801 - val_accuracy: 0.8395\n",
            "Epoch 19/100\n",
            "6000/6000 [==============================] - 2s 341us/step - loss: 0.3546 - accuracy: 0.8542 - val_loss: 0.3798 - val_accuracy: 0.8400\n",
            "Epoch 20/100\n",
            "6000/6000 [==============================] - 2s 329us/step - loss: 0.3531 - accuracy: 0.8542 - val_loss: 0.3817 - val_accuracy: 0.8410\n",
            "Epoch 21/100\n",
            "6000/6000 [==============================] - 2s 346us/step - loss: 0.3518 - accuracy: 0.8530 - val_loss: 0.3756 - val_accuracy: 0.8425\n",
            "Epoch 22/100\n",
            "6000/6000 [==============================] - 2s 352us/step - loss: 0.3505 - accuracy: 0.8560 - val_loss: 0.3766 - val_accuracy: 0.8455\n",
            "Epoch 23/100\n",
            "6000/6000 [==============================] - 2s 339us/step - loss: 0.3492 - accuracy: 0.8587 - val_loss: 0.3724 - val_accuracy: 0.8435\n",
            "Epoch 24/100\n",
            "6000/6000 [==============================] - 2s 332us/step - loss: 0.3474 - accuracy: 0.8535 - val_loss: 0.3736 - val_accuracy: 0.8420\n",
            "Epoch 25/100\n",
            "6000/6000 [==============================] - 2s 328us/step - loss: 0.3468 - accuracy: 0.8548 - val_loss: 0.3781 - val_accuracy: 0.8425\n",
            "Epoch 26/100\n",
            "6000/6000 [==============================] - 2s 376us/step - loss: 0.3448 - accuracy: 0.8548 - val_loss: 0.3716 - val_accuracy: 0.8460\n",
            "Epoch 27/100\n",
            "6000/6000 [==============================] - 2s 335us/step - loss: 0.3443 - accuracy: 0.8545 - val_loss: 0.3711 - val_accuracy: 0.8420\n",
            "Epoch 28/100\n",
            "6000/6000 [==============================] - 2s 333us/step - loss: 0.3436 - accuracy: 0.8560 - val_loss: 0.3872 - val_accuracy: 0.8445\n",
            "Epoch 29/100\n",
            "6000/6000 [==============================] - 2s 352us/step - loss: 0.3424 - accuracy: 0.8570 - val_loss: 0.3770 - val_accuracy: 0.8400\n",
            "Epoch 30/100\n",
            "6000/6000 [==============================] - 2s 350us/step - loss: 0.3412 - accuracy: 0.8580 - val_loss: 0.3730 - val_accuracy: 0.8385\n",
            "Epoch 31/100\n",
            "6000/6000 [==============================] - 2s 342us/step - loss: 0.3396 - accuracy: 0.8587 - val_loss: 0.3819 - val_accuracy: 0.8375\n",
            "Epoch 32/100\n",
            "6000/6000 [==============================] - 2s 336us/step - loss: 0.3401 - accuracy: 0.8568 - val_loss: 0.3713 - val_accuracy: 0.8510\n",
            "Epoch 33/100\n",
            "6000/6000 [==============================] - 2s 349us/step - loss: 0.3395 - accuracy: 0.8575 - val_loss: 0.3671 - val_accuracy: 0.8500\n",
            "Epoch 34/100\n",
            "6000/6000 [==============================] - 2s 336us/step - loss: 0.3393 - accuracy: 0.8577 - val_loss: 0.3646 - val_accuracy: 0.8530\n",
            "Epoch 35/100\n",
            "6000/6000 [==============================] - 2s 327us/step - loss: 0.3384 - accuracy: 0.8590 - val_loss: 0.3657 - val_accuracy: 0.8530\n",
            "Epoch 36/100\n",
            "6000/6000 [==============================] - 2s 330us/step - loss: 0.3369 - accuracy: 0.8613 - val_loss: 0.3695 - val_accuracy: 0.8465\n",
            "Epoch 37/100\n",
            "6000/6000 [==============================] - 2s 347us/step - loss: 0.3354 - accuracy: 0.8588 - val_loss: 0.3699 - val_accuracy: 0.8445\n",
            "Epoch 38/100\n",
            "6000/6000 [==============================] - 2s 349us/step - loss: 0.3360 - accuracy: 0.8603 - val_loss: 0.3629 - val_accuracy: 0.8510\n",
            "Epoch 39/100\n",
            "6000/6000 [==============================] - 2s 360us/step - loss: 0.3327 - accuracy: 0.8582 - val_loss: 0.3642 - val_accuracy: 0.8525\n",
            "Epoch 40/100\n",
            "6000/6000 [==============================] - 2s 342us/step - loss: 0.3347 - accuracy: 0.8627 - val_loss: 0.3646 - val_accuracy: 0.8530\n",
            "Epoch 41/100\n",
            "6000/6000 [==============================] - 2s 359us/step - loss: 0.3332 - accuracy: 0.8610 - val_loss: 0.3610 - val_accuracy: 0.8515\n",
            "Epoch 42/100\n",
            "6000/6000 [==============================] - 2s 331us/step - loss: 0.3312 - accuracy: 0.8587 - val_loss: 0.3593 - val_accuracy: 0.8510\n",
            "Epoch 43/100\n",
            "6000/6000 [==============================] - 2s 335us/step - loss: 0.3311 - accuracy: 0.8625 - val_loss: 0.3612 - val_accuracy: 0.8535\n",
            "Epoch 44/100\n",
            "6000/6000 [==============================] - 2s 344us/step - loss: 0.3313 - accuracy: 0.8600 - val_loss: 0.3614 - val_accuracy: 0.8515\n",
            "Epoch 45/100\n",
            "6000/6000 [==============================] - 2s 334us/step - loss: 0.3318 - accuracy: 0.8582 - val_loss: 0.3586 - val_accuracy: 0.8550\n",
            "Epoch 46/100\n",
            "6000/6000 [==============================] - 2s 334us/step - loss: 0.3296 - accuracy: 0.8630 - val_loss: 0.3628 - val_accuracy: 0.8535\n",
            "Epoch 47/100\n",
            "6000/6000 [==============================] - 2s 343us/step - loss: 0.3312 - accuracy: 0.8625 - val_loss: 0.3597 - val_accuracy: 0.8510\n",
            "Epoch 48/100\n",
            "6000/6000 [==============================] - 2s 335us/step - loss: 0.3295 - accuracy: 0.8608 - val_loss: 0.3624 - val_accuracy: 0.8545\n",
            "Epoch 49/100\n",
            "6000/6000 [==============================] - 2s 345us/step - loss: 0.3289 - accuracy: 0.8625 - val_loss: 0.3582 - val_accuracy: 0.8540\n",
            "Epoch 50/100\n",
            "6000/6000 [==============================] - 2s 337us/step - loss: 0.3269 - accuracy: 0.8632 - val_loss: 0.3620 - val_accuracy: 0.8505\n",
            "Epoch 51/100\n",
            "6000/6000 [==============================] - 2s 335us/step - loss: 0.3268 - accuracy: 0.8640 - val_loss: 0.3612 - val_accuracy: 0.8525\n",
            "Epoch 52/100\n",
            "6000/6000 [==============================] - 2s 342us/step - loss: 0.3277 - accuracy: 0.8627 - val_loss: 0.3607 - val_accuracy: 0.8495\n",
            "Epoch 53/100\n",
            "6000/6000 [==============================] - 2s 335us/step - loss: 0.3257 - accuracy: 0.8632 - val_loss: 0.3601 - val_accuracy: 0.8545\n",
            "Epoch 54/100\n",
            "6000/6000 [==============================] - 2s 342us/step - loss: 0.3267 - accuracy: 0.8645 - val_loss: 0.3593 - val_accuracy: 0.8520\n",
            "Epoch 55/100\n",
            "6000/6000 [==============================] - 2s 333us/step - loss: 0.3260 - accuracy: 0.8647 - val_loss: 0.3671 - val_accuracy: 0.8500\n",
            "Epoch 56/100\n",
            "6000/6000 [==============================] - 2s 332us/step - loss: 0.3247 - accuracy: 0.8638 - val_loss: 0.3624 - val_accuracy: 0.8530\n",
            "Epoch 57/100\n",
            "6000/6000 [==============================] - 2s 343us/step - loss: 0.3249 - accuracy: 0.8637 - val_loss: 0.3570 - val_accuracy: 0.8525\n",
            "Epoch 58/100\n",
            "6000/6000 [==============================] - 2s 349us/step - loss: 0.3241 - accuracy: 0.8645 - val_loss: 0.3638 - val_accuracy: 0.8510\n",
            "Epoch 59/100\n",
            "6000/6000 [==============================] - 2s 357us/step - loss: 0.3246 - accuracy: 0.8617 - val_loss: 0.3575 - val_accuracy: 0.8545\n",
            "Epoch 60/100\n",
            "6000/6000 [==============================] - 2s 353us/step - loss: 0.3229 - accuracy: 0.8650 - val_loss: 0.3578 - val_accuracy: 0.8545\n",
            "Epoch 61/100\n",
            "6000/6000 [==============================] - 2s 333us/step - loss: 0.3241 - accuracy: 0.8633 - val_loss: 0.3573 - val_accuracy: 0.8520\n",
            "Epoch 62/100\n",
            "6000/6000 [==============================] - 2s 337us/step - loss: 0.3229 - accuracy: 0.8655 - val_loss: 0.3599 - val_accuracy: 0.8520\n",
            "Epoch 63/100\n",
            "6000/6000 [==============================] - 2s 336us/step - loss: 0.3219 - accuracy: 0.8652 - val_loss: 0.3566 - val_accuracy: 0.8540\n",
            "Epoch 64/100\n",
            "6000/6000 [==============================] - 2s 340us/step - loss: 0.3221 - accuracy: 0.8645 - val_loss: 0.3575 - val_accuracy: 0.8505\n",
            "Epoch 65/100\n",
            "6000/6000 [==============================] - 2s 337us/step - loss: 0.3202 - accuracy: 0.8658 - val_loss: 0.3536 - val_accuracy: 0.8510\n",
            "Epoch 66/100\n",
            "6000/6000 [==============================] - 2s 342us/step - loss: 0.3214 - accuracy: 0.8658 - val_loss: 0.3606 - val_accuracy: 0.8500\n",
            "Epoch 67/100\n",
            "6000/6000 [==============================] - 2s 339us/step - loss: 0.3212 - accuracy: 0.8655 - val_loss: 0.3618 - val_accuracy: 0.8510\n",
            "Epoch 68/100\n",
            "6000/6000 [==============================] - 2s 353us/step - loss: 0.3207 - accuracy: 0.8650 - val_loss: 0.3599 - val_accuracy: 0.8520\n",
            "Epoch 69/100\n",
            "6000/6000 [==============================] - 2s 330us/step - loss: 0.3203 - accuracy: 0.8638 - val_loss: 0.3567 - val_accuracy: 0.8525\n",
            "Epoch 70/100\n",
            "6000/6000 [==============================] - 2s 344us/step - loss: 0.3193 - accuracy: 0.8633 - val_loss: 0.3578 - val_accuracy: 0.8540\n",
            "Epoch 71/100\n",
            "6000/6000 [==============================] - 2s 332us/step - loss: 0.3208 - accuracy: 0.8627 - val_loss: 0.3554 - val_accuracy: 0.8525\n",
            "Epoch 72/100\n",
            "6000/6000 [==============================] - 2s 335us/step - loss: 0.3186 - accuracy: 0.8650 - val_loss: 0.3569 - val_accuracy: 0.8510\n",
            "Epoch 73/100\n",
            "6000/6000 [==============================] - 2s 334us/step - loss: 0.3184 - accuracy: 0.8647 - val_loss: 0.3594 - val_accuracy: 0.8510\n",
            "Epoch 74/100\n",
            "6000/6000 [==============================] - 2s 336us/step - loss: 0.3184 - accuracy: 0.8678 - val_loss: 0.3591 - val_accuracy: 0.8500\n",
            "Epoch 75/100\n",
            "6000/6000 [==============================] - 2s 331us/step - loss: 0.3178 - accuracy: 0.8653 - val_loss: 0.3622 - val_accuracy: 0.8500\n",
            "Epoch 76/100\n",
            "6000/6000 [==============================] - 2s 338us/step - loss: 0.3179 - accuracy: 0.8630 - val_loss: 0.3576 - val_accuracy: 0.8500\n",
            "Epoch 77/100\n",
            "6000/6000 [==============================] - 2s 354us/step - loss: 0.3172 - accuracy: 0.8662 - val_loss: 0.3615 - val_accuracy: 0.8475\n",
            "Epoch 78/100\n",
            "6000/6000 [==============================] - 2s 336us/step - loss: 0.3170 - accuracy: 0.8678 - val_loss: 0.3589 - val_accuracy: 0.8525\n",
            "Epoch 79/100\n",
            "6000/6000 [==============================] - 2s 341us/step - loss: 0.3162 - accuracy: 0.8675 - val_loss: 0.3612 - val_accuracy: 0.8525\n",
            "Epoch 80/100\n",
            "6000/6000 [==============================] - 2s 334us/step - loss: 0.3159 - accuracy: 0.8647 - val_loss: 0.3695 - val_accuracy: 0.8510\n",
            "Epoch 81/100\n",
            "6000/6000 [==============================] - 2s 346us/step - loss: 0.3166 - accuracy: 0.8648 - val_loss: 0.3664 - val_accuracy: 0.8535\n",
            "Epoch 82/100\n",
            "6000/6000 [==============================] - 2s 336us/step - loss: 0.3165 - accuracy: 0.8668 - val_loss: 0.3601 - val_accuracy: 0.8510\n",
            "Epoch 83/100\n",
            "6000/6000 [==============================] - 2s 350us/step - loss: 0.3150 - accuracy: 0.8683 - val_loss: 0.3614 - val_accuracy: 0.8505\n",
            "Epoch 84/100\n",
            "6000/6000 [==============================] - 2s 342us/step - loss: 0.3151 - accuracy: 0.8662 - val_loss: 0.3657 - val_accuracy: 0.8510\n",
            "Epoch 85/100\n",
            "6000/6000 [==============================] - 2s 356us/step - loss: 0.3142 - accuracy: 0.8685 - val_loss: 0.3623 - val_accuracy: 0.8485\n",
            "Epoch 86/100\n",
            "6000/6000 [==============================] - 2s 342us/step - loss: 0.3145 - accuracy: 0.8678 - val_loss: 0.3614 - val_accuracy: 0.8485\n",
            "Epoch 87/100\n",
            "6000/6000 [==============================] - 2s 367us/step - loss: 0.3140 - accuracy: 0.8660 - val_loss: 0.3587 - val_accuracy: 0.8515\n",
            "Epoch 88/100\n",
            "6000/6000 [==============================] - 2s 354us/step - loss: 0.3147 - accuracy: 0.8665 - val_loss: 0.3595 - val_accuracy: 0.8510\n",
            "Epoch 89/100\n",
            "6000/6000 [==============================] - 2s 347us/step - loss: 0.3156 - accuracy: 0.8660 - val_loss: 0.3619 - val_accuracy: 0.8490\n",
            "Epoch 90/100\n",
            "6000/6000 [==============================] - 2s 369us/step - loss: 0.3145 - accuracy: 0.8635 - val_loss: 0.3578 - val_accuracy: 0.8495\n",
            "Epoch 91/100\n",
            "6000/6000 [==============================] - 2s 353us/step - loss: 0.3137 - accuracy: 0.8673 - val_loss: 0.3624 - val_accuracy: 0.8480\n",
            "Epoch 92/100\n",
            "6000/6000 [==============================] - 2s 354us/step - loss: 0.3130 - accuracy: 0.8660 - val_loss: 0.3636 - val_accuracy: 0.8480\n",
            "Epoch 93/100\n",
            "6000/6000 [==============================] - 2s 340us/step - loss: 0.3131 - accuracy: 0.8667 - val_loss: 0.3656 - val_accuracy: 0.8505\n",
            "Epoch 94/100\n",
            "6000/6000 [==============================] - 2s 337us/step - loss: 0.3136 - accuracy: 0.8662 - val_loss: 0.3612 - val_accuracy: 0.8530\n",
            "Epoch 95/100\n",
            "6000/6000 [==============================] - 2s 352us/step - loss: 0.3115 - accuracy: 0.8648 - val_loss: 0.3640 - val_accuracy: 0.8465\n",
            "Epoch 96/100\n",
            "6000/6000 [==============================] - 2s 349us/step - loss: 0.3122 - accuracy: 0.8687 - val_loss: 0.3620 - val_accuracy: 0.8520\n",
            "Epoch 97/100\n",
            "6000/6000 [==============================] - 2s 334us/step - loss: 0.3108 - accuracy: 0.8683 - val_loss: 0.3615 - val_accuracy: 0.8500\n",
            "Epoch 98/100\n",
            "6000/6000 [==============================] - 2s 353us/step - loss: 0.3107 - accuracy: 0.8698 - val_loss: 0.3661 - val_accuracy: 0.8510\n",
            "Epoch 99/100\n",
            "6000/6000 [==============================] - 2s 364us/step - loss: 0.3112 - accuracy: 0.8680 - val_loss: 0.3656 - val_accuracy: 0.8485\n",
            "Epoch 100/100\n",
            "6000/6000 [==============================] - 2s 353us/step - loss: 0.3100 - accuracy: 0.8693 - val_loss: 0.3609 - val_accuracy: 0.8520\n"
          ],
          "name": "stdout"
        }
      ]
    },
    {
      "cell_type": "code",
      "metadata": {
        "id": "GXXGN4U4wpyS",
        "colab_type": "code",
        "colab": {}
      },
      "source": [
        "# Train accuracy =0.8693, validation accuracy=0.8520 after 100 epochs #\n"
      ],
      "execution_count": 75,
      "outputs": []
    },
    {
      "cell_type": "code",
      "metadata": {
        "id": "I-low5d66Jj8",
        "colab_type": "code",
        "colab": {}
      },
      "source": [
        "# Currently we are testting the model for test data set with model with 50 epochs"
      ],
      "execution_count": null,
      "outputs": []
    },
    {
      "cell_type": "code",
      "metadata": {
        "id": "XA59SgFV0CdJ",
        "colab_type": "code",
        "colab": {}
      },
      "source": [
        "# predicting the performance of this model #\n",
        "\n",
        "from sklearn.metrics import accuracy_score\n",
        "\n",
        "from sklearn.metrics import confusion_matrix\n",
        "\n",
        "Y_pred = classifier.predict(x_test) # output is in the form of an array # \n",
        "\n"
      ],
      "execution_count": 92,
      "outputs": []
    },
    {
      "cell_type": "code",
      "metadata": {
        "id": "NWFE4Uhs01Ke",
        "colab_type": "code",
        "colab": {
          "base_uri": "https://localhost:8080/",
          "height": 136
        },
        "outputId": "59c408d3-5745-4ecb-fb08-7697fee87852"
      },
      "source": [
        "Y_pred  # we are getting the output as probablities, need to convert them into 1 and 0's\n",
        "\n",
        "Y_pred = Y_pred>0.5\n",
        "Y_pred\n",
        "\n",
        "\n",
        "# False means the customer will not exit and true means customer will exit"
      ],
      "execution_count": 93,
      "outputs": [
        {
          "output_type": "execute_result",
          "data": {
            "text/plain": [
              "array([[False],\n",
              "       [False],\n",
              "       [False],\n",
              "       ...,\n",
              "       [False],\n",
              "       [False],\n",
              "       [ True]])"
            ]
          },
          "metadata": {
            "tags": []
          },
          "execution_count": 93
        }
      ]
    },
    {
      "cell_type": "code",
      "metadata": {
        "id": "xSLPM7am3iz0",
        "colab_type": "code",
        "colab": {
          "base_uri": "https://localhost:8080/",
          "height": 34
        },
        "outputId": "232aa5e1-a42f-400c-ce9e-1d46f49a64ab"
      },
      "source": [
        "# test accuracy #\n",
        "\n",
        "acc = accuracy_score(Y_pred,y_test)\n",
        "acc\n",
        "\n",
        "# test accuracy for this model is 86.35%\n",
        "\n",
        "# there is no overfitting in this model #\n"
      ],
      "execution_count": 94,
      "outputs": [
        {
          "output_type": "execute_result",
          "data": {
            "text/plain": [
              "0.8635"
            ]
          },
          "metadata": {
            "tags": []
          },
          "execution_count": 94
        }
      ]
    },
    {
      "cell_type": "code",
      "metadata": {
        "id": "0oCAuI6f9pZH",
        "colab_type": "code",
        "colab": {}
      },
      "source": [
        ""
      ],
      "execution_count": null,
      "outputs": []
    },
    {
      "cell_type": "code",
      "metadata": {
        "id": "y3u6hG5dxaEr",
        "colab_type": "code",
        "colab": {}
      },
      "source": [
        "# Getting into hyper parameter tunning to get the best parameters for this model #\n",
        "# here nodes = no. of neurons, input_dimension = no. of variables in x_train #\n",
        "# This will help to identify the optimum npo. of layers for this model #\n",
        "def create_model(layers, activation):\n",
        "    model = Sequential()\n",
        "    for i, nodes in enumerate(layers):\n",
        "        if i==0:\n",
        "            model.add(Dense(nodes, input_dim = x_train.shape[1]))\n",
        "            model.add(Activation(activation))\n",
        "            model.add(Dropout(0.2))\n",
        "        else: \n",
        "            model.add(Dense(nodes))\n",
        "            model.add(Activation(activation))\n",
        "            model.add(Dropout(0.2))\n",
        "        \n",
        "    model.add(Dense(units=1,kernel_initializer='glorot_uniform',activation = 'sigmoid'))\n",
        "\n",
        "    model.compile(metrics=['accuracy'],loss='binary_crossentropy',optimizer='adam')\n",
        "    return model"
      ],
      "execution_count": null,
      "outputs": []
    },
    {
      "cell_type": "code",
      "metadata": {
        "id": "DOuJGjFE6dHN",
        "colab_type": "code",
        "colab": {}
      },
      "source": [
        "from keras.wrappers.scikit_learn import KerasClassifier\n",
        "from sklearn.model_selection import GridSearchCV"
      ],
      "execution_count": null,
      "outputs": []
    },
    {
      "cell_type": "code",
      "metadata": {
        "id": "2qYUAMsi3zmn",
        "colab_type": "code",
        "colab": {}
      },
      "source": [
        "# this will help to identify the optmimum no, of layers for this model #\n",
        "model = KerasClassifier(build_fn = create_model,verbose=0)\n",
        "\n",
        "layers = [(30,20),(10,30,50)]\n",
        "\n",
        "activations = ['relu']\n",
        "\n",
        "params_grid = dict(layers=layers,activation=activations,batch_size=[15],epochs=[50])\n",
        "\n",
        "grid = GridSearchCV(estimator = model,param_grid= params_grid,cv=5)\n",
        "\n",
        "grid_result = grid.fit(x_train,y_train)\n"
      ],
      "execution_count": null,
      "outputs": []
    },
    {
      "cell_type": "code",
      "metadata": {
        "id": "4-xa41a8Huqh",
        "colab_type": "code",
        "colab": {}
      },
      "source": [
        "print(grid_result.best_score_)\n",
        "print(grid_result.best_params_)\n",
        "# train accuracy : 85.50%\n",
        "# {'activation': 'relu', 'batch_size': 15, 'epochs': 50, 'layers': (30, 20)}"
      ],
      "execution_count": null,
      "outputs": []
    },
    {
      "cell_type": "code",
      "metadata": {
        "id": "zkBfXAduNI3n",
        "colab_type": "code",
        "colab": {}
      },
      "source": [
        "#pred_y =grid.predict(x_test)\n",
        "pred_y = pred_y>0.5 "
      ],
      "execution_count": null,
      "outputs": []
    },
    {
      "cell_type": "code",
      "metadata": {
        "id": "JThdWlfuNcmq",
        "colab_type": "code",
        "colab": {}
      },
      "source": [
        "acc = accuracy_score(pred_y,y_test)\n",
        "acc\n",
        "#test accuracy is 86%"
      ],
      "execution_count": null,
      "outputs": []
    },
    {
      "cell_type": "code",
      "metadata": {
        "id": "JTNJNYqap8d5",
        "colab_type": "code",
        "colab": {}
      },
      "source": [
        "cm = grid_result.best_params_\n",
        "cm"
      ],
      "execution_count": null,
      "outputs": []
    },
    {
      "cell_type": "code",
      "metadata": {
        "id": "FjC4I5ydWmTR",
        "colab_type": "code",
        "colab": {}
      },
      "source": [
        "#Saving the standard scaler model as well to transform the data for prtedictions #\n",
        "import pickle\n",
        "pickle.dump(mn1,open('mn.pkl','wb'))\n",
        "b = pickle.load(open('mn.pkl','rb'))"
      ],
      "execution_count": null,
      "outputs": []
    },
    {
      "cell_type": "code",
      "metadata": {
        "id": "U-_T9UMQrltQ",
        "colab_type": "code",
        "colab": {
          "base_uri": "https://localhost:8080/",
          "height": 221
        },
        "outputId": "11d7781a-c09d-41a9-c5bf-5feb2b40dab0"
      },
      "source": [
        "x_test.iloc[0]"
      ],
      "execution_count": null,
      "outputs": [
        {
          "output_type": "execute_result",
          "data": {
            "text/plain": [
              "CreditScore          0.666000\n",
              "Age                  0.202703\n",
              "Tenure               0.900000\n",
              "Balance              0.000000\n",
              "NumOfProducts        0.333333\n",
              "HasCrCard            1.000000\n",
              "IsActiveMember       1.000000\n",
              "EstimatedSalary      0.193883\n",
              "Geography_Germany    0.000000\n",
              "Geography_Spain      0.000000\n",
              "Gender_Male          0.000000\n",
              "Name: 6409, dtype: float64"
            ]
          },
          "metadata": {
            "tags": []
          },
          "execution_count": 47
        }
      ]
    },
    {
      "cell_type": "code",
      "metadata": {
        "id": "RVweMpFrXr93",
        "colab_type": "code",
        "colab": {
          "base_uri": "https://localhost:8080/",
          "height": 197
        },
        "outputId": "e8cc42cf-5097-48dc-edec-d253d2cedc53"
      },
      "source": [
        "# Set of input parameters for any random data #\n",
        "m = [376,4,115046.74,4,1,119346.88,1,0,0]\n",
        "v = m.reshape(-1,1)"
      ],
      "execution_count": null,
      "outputs": [
        {
          "output_type": "error",
          "ename": "AttributeError",
          "evalue": "ignored",
          "traceback": [
            "\u001b[0;31m---------------------------------------------------------------------------\u001b[0m",
            "\u001b[0;31mAttributeError\u001b[0m                            Traceback (most recent call last)",
            "\u001b[0;32m<ipython-input-51-a6276f154891>\u001b[0m in \u001b[0;36m<module>\u001b[0;34m()\u001b[0m\n\u001b[1;32m      1\u001b[0m \u001b[0;31m# Set of input parameters for any random data #\u001b[0m\u001b[0;34m\u001b[0m\u001b[0;34m\u001b[0m\u001b[0;34m\u001b[0m\u001b[0m\n\u001b[1;32m      2\u001b[0m \u001b[0mm\u001b[0m \u001b[0;34m=\u001b[0m \u001b[0;34m[\u001b[0m\u001b[0;36m376\u001b[0m\u001b[0;34m,\u001b[0m\u001b[0;36m4\u001b[0m\u001b[0;34m,\u001b[0m\u001b[0;36m115046.74\u001b[0m\u001b[0;34m,\u001b[0m\u001b[0;36m4\u001b[0m\u001b[0;34m,\u001b[0m\u001b[0;36m1\u001b[0m\u001b[0;34m,\u001b[0m\u001b[0;36m119346.88\u001b[0m\u001b[0;34m,\u001b[0m\u001b[0;36m1\u001b[0m\u001b[0;34m,\u001b[0m\u001b[0;36m0\u001b[0m\u001b[0;34m,\u001b[0m\u001b[0;36m0\u001b[0m\u001b[0;34m]\u001b[0m\u001b[0;34m\u001b[0m\u001b[0;34m\u001b[0m\u001b[0m\n\u001b[0;32m----> 3\u001b[0;31m \u001b[0mv\u001b[0m \u001b[0;34m=\u001b[0m \u001b[0mm\u001b[0m\u001b[0;34m.\u001b[0m\u001b[0mreshape\u001b[0m\u001b[0;34m(\u001b[0m\u001b[0;34m-\u001b[0m\u001b[0;36m1\u001b[0m\u001b[0;34m,\u001b[0m\u001b[0;36m1\u001b[0m\u001b[0;34m)\u001b[0m\u001b[0;34m\u001b[0m\u001b[0;34m\u001b[0m\u001b[0m\n\u001b[0m",
            "\u001b[0;31mAttributeError\u001b[0m: 'list' object has no attribute 'reshape'"
          ]
        }
      ]
    },
    {
      "cell_type": "code",
      "metadata": {
        "id": "JuraxW88X12N",
        "colab_type": "code",
        "colab": {
          "base_uri": "https://localhost:8080/",
          "height": 163
        },
        "outputId": "0f57099e-e00e-4512-9162-521f0dd0b654"
      },
      "source": [
        "c = b.transform(v)"
      ],
      "execution_count": null,
      "outputs": [
        {
          "output_type": "error",
          "ename": "NameError",
          "evalue": "ignored",
          "traceback": [
            "\u001b[0;31m---------------------------------------------------------------------------\u001b[0m",
            "\u001b[0;31mNameError\u001b[0m                                 Traceback (most recent call last)",
            "\u001b[0;32m<ipython-input-50-e34f497b9912>\u001b[0m in \u001b[0;36m<module>\u001b[0;34m()\u001b[0m\n\u001b[0;32m----> 1\u001b[0;31m \u001b[0mc\u001b[0m \u001b[0;34m=\u001b[0m \u001b[0mmn\u001b[0m\u001b[0;34m.\u001b[0m\u001b[0mtransform\u001b[0m\u001b[0;34m(\u001b[0m\u001b[0mv\u001b[0m\u001b[0;34m)\u001b[0m\u001b[0;34m\u001b[0m\u001b[0;34m\u001b[0m\u001b[0m\n\u001b[0m",
            "\u001b[0;31mNameError\u001b[0m: name 'v' is not defined"
          ]
        }
      ]
    },
    {
      "cell_type": "code",
      "metadata": {
        "id": "Bqbqhj2DVOWi",
        "colab_type": "code",
        "colab": {}
      },
      "source": [
        "# Saving the model for Predictions for any random data set #\n",
        "import pickle\n",
        "pickle.dump(grid,open('bank_churn.pkl','wb'))\n",
        "a = pickle.load(open('bank_churn.pkl','rb'))"
      ],
      "execution_count": null,
      "outputs": []
    },
    {
      "cell_type": "code",
      "metadata": {
        "id": "dBKIhyxrVqF3",
        "colab_type": "code",
        "colab": {}
      },
      "source": [
        "# testing the output in any random data set #\n",
        "\n",
        "pred =grid.predict()\n",
        "pred = pred_y>0.5 "
      ],
      "execution_count": null,
      "outputs": []
    },
    {
      "cell_type": "code",
      "metadata": {
        "id": "-B575HCDYEV6",
        "colab_type": "code",
        "colab": {}
      },
      "source": [
        "# The customer will\n",
        "pred"
      ],
      "execution_count": null,
      "outputs": []
    }
  ]
}